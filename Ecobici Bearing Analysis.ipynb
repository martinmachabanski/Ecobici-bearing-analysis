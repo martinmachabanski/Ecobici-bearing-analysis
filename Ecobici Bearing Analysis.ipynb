{
 "cells": [
  {
   "cell_type": "code",
   "execution_count": 2,
   "id": "later-rendering",
   "metadata": {},
   "outputs": [],
   "source": [
    "import pandas as pd\n",
    "import geopandas as gpd\n",
    "import numpy as np\n",
    "from datetime import datetime\n",
    "\n",
    "#C:\\Users\\mmach\\Documents\\dh\\Ecobici\n",
    "#Carga de df\n",
    "\n",
    "df = pd.read_csv(\"DATA/recorridos-mayo-2019.csv\", delimiter = ',')"
   ]
  },
  {
   "cell_type": "code",
   "execution_count": 3,
   "id": "collectible-spectacular",
   "metadata": {},
   "outputs": [],
   "source": [
    "\n",
    "#droppin Na\n",
    "df.dropna(subset = ['long_estacion_origen','long_estacion_destino','lat_estacion_destino','lat_estacion_destino' , 'domicilio_estacion_origen', 'domicilio_estacion_destino' ], inplace = True)\n",
    "df.drop(['genero_usuario'], axis = 1, inplace =  True) # has not values\n",
    "df.rename(columns = {'Unnamed: 0' : 'ID'}, inplace =True)"
   ]
  },
  {
   "cell_type": "code",
   "execution_count": 4,
   "id": "wooden-outside",
   "metadata": {},
   "outputs": [],
   "source": [
    "#converting from string to datetime\n",
    "df['origen_datetime'], df['destino_datetime'] = pd.to_datetime(df[ 'fecha_origen_recorrido']) ,  pd.to_datetime(df['fecha_destino_recorrido'])\n",
    "\n",
    "#getting duration of each trip\n",
    "df['duracion'] =df.destino_datetime - df.origen_datetime\n",
    "df['duracion'] = round(df.duracion.dt.total_seconds() / 60,0).astype(int)\n",
    "\n",
    "# getting the hour\n",
    "df['hora'] = df.origen_datetime.dt.hour"
   ]
  },
  {
   "cell_type": "code",
   "execution_count": 6,
   "id": "efficient-counter",
   "metadata": {},
   "outputs": [],
   "source": [
    "\n",
    "\n",
    "# Day of week. Mon 0 Sun 6\n",
    "df['dia_semana']= df.origen_datetime.dt.dayofweek\n",
    "# month\n",
    "df['mes'] = df.origen_datetime.dt.month\n",
    "# workday or not\n",
    "df['tipo_dia'] = np.where(df['dia_semana']<5, 'Laboral', 'Fin de Semana')"
   ]
  },
  {
   "cell_type": "code",
   "execution_count": 7,
   "id": "western-belly",
   "metadata": {},
   "outputs": [],
   "source": [
    "#categorizing times of the day\n",
    "\n",
    "bins_momentos = [5,10,16,20,24]\n",
    "momentos_labels = [\"6 a 10hs\",\"11 a 16hs\", \"17 a 20hs\", \"21 a 5hs\" ]\n",
    "df['momento_dia'] = pd.cut(df.hora,bins_momentos,labels = momentos_labels, ordered = False)\n",
    "df['momento_dia'].fillna(\"21 a 5hs\", inplace = True)\n",
    "\n",
    "#categorizing trip duration\n",
    "\n",
    "bins_duracion = [-1,5,15,30,45,df.duracion.max()+1]\n",
    "duracion_labels = ['Hasta 5 minutos', 'Hasta 15 minutos', 'Hasta 30 minutos', 'Hasta 45 minutos', 'Desde 45 minutos']\n",
    "df['duracion_viaje'] = pd.cut(df.duracion,bins_duracion,labels = duracion_labels, ordered = False)"
   ]
  },
  {
   "cell_type": "code",
   "execution_count": 8,
   "id": "center-analyst",
   "metadata": {},
   "outputs": [],
   "source": [
    "#consolidating stations between origin and destiny stations available in the dataset\n",
    "estaciones_origen = df[['id_estacion_origen','nombre_estacion_origen', 'long_estacion_origen','lat_estacion_origen', 'domicilio_estacion_origen']].drop_duplicates(subset = ['id_estacion_origen'])\n",
    "estaciones_origen.rename(columns = {'id_estacion_origen' : 'id_estacion',\n",
    "                            'nombre_estacion_origen' : 'nombre_estacion', \n",
    "                            'long_estacion_origen': 'long_estacion',\n",
    "                            'lat_estacion_origen': 'lat_estacion',\n",
    "                            'domicilio_estacion_origen' : 'domicilio_estacion'}, inplace =True)\n",
    "estaciones_destino = df[['id_estacion_destino','nombre_estacion_destino', 'long_estacion_destino','lat_estacion_destino', 'domicilio_estacion_destino']].drop_duplicates(subset = ['id_estacion_destino'])\n",
    "estaciones_destino.rename(columns = {'id_estacion_destino' : 'id_estacion',\n",
    "                            'nombre_estacion_destino' : 'nombre_estacion', \n",
    "                            'long_estacion_destino': 'long_estacion',\n",
    "                            'lat_estacion_destino': 'lat_estacion',\n",
    "                            'domicilio_estacion_destino' : 'domicilio_estacion'}, inplace =True)\n",
    "            \n",
    "                          \n",
    "df_estaciones = estaciones_origen.append(estaciones_destino)\n",
    "df_estaciones = df_estaciones.drop_duplicates(subset = ['id_estacion']).copy()"
   ]
  },
  {
   "cell_type": "code",
   "execution_count": 9,
   "id": "scientific-homeless",
   "metadata": {},
   "outputs": [],
   "source": [
    "\n",
    "#converting latlong columns into GeoDf\n",
    "crs = {'init' : 'epsg:4326'}\n",
    "comunas = gpd.read_file('DATA/CABA_comunas.geojson')"
   ]
  },
  {
   "cell_type": "code",
   "execution_count": 10,
   "id": "precise-peripheral",
   "metadata": {},
   "outputs": [],
   "source": [
    "#extracting Comunas info\n",
    "geo_point = gpd.GeoDataFrame(df_estaciones[['long_estacion', 'lat_estacion']], geometry=gpd.points_from_xy(df_estaciones.long_estacion, df_estaciones.lat_estacion), crs=crs)\n",
    "comunas_joint = gpd.sjoin(geo_point, comunas, how = \"left\")\n",
    "df_estaciones['comuna'] = comunas_joint['COMUNAS'].copy()"
   ]
  },
  {
   "cell_type": "code",
   "execution_count": 11,
   "id": "prepared-experiment",
   "metadata": {},
   "outputs": [],
   "source": [
    "df_viajes = df.drop(['periodo', 'nombre_estacion_origen', 'domicilio_estacion_origen', 'fecha_origen_recorrido',\n",
    "                    'fecha_destino_recorrido',  'nombre_estacion_destino', 'domicilio_estacion_destino' ], axis = 1)\n",
    "\n",
    "df_viajes = df_viajes.merge(df_estaciones[['id_estacion', 'comuna']], left_on='id_estacion_origen', right_on='id_estacion', suffixes=('','_origen')).drop(columns = 'id_estacion')\n",
    "df_viajes = df_viajes.merge(df_estaciones[['id_estacion', 'comuna']], left_on='id_estacion_destino', right_on='id_estacion', suffixes=('','_destino')).drop(columns = 'id_estacion')\n",
    "\n"
   ]
  },
  {
   "cell_type": "code",
   "execution_count": 12,
   "id": "driven-proportion",
   "metadata": {},
   "outputs": [],
   "source": [
    "#assigning of type of trip with respect to Comuna 1\n",
    "def asignar_tipo_de_viaje(df,origen,destino):\n",
    "    tipo = []\n",
    "    for j in df.index:\n",
    "        if origen[j] == 1:\n",
    "            if destino[j] == 1:\n",
    "                tipo.append(\"Internos Comuna 1\") \n",
    "            else:\n",
    "                tipo.append(\"Desde la Comuna 1\") \n",
    "        elif destino[j] == 1:\n",
    "            tipo.append(\"Hacia la Comuna 1\") \n",
    "        else:\n",
    "            tipo.append(\"Fuera de la Comuna 1\") \n",
    "    return tipo "
   ]
  },
  {
   "cell_type": "code",
   "execution_count": 13,
   "id": "declared-cleaner",
   "metadata": {},
   "outputs": [],
   "source": [
    "df_viajes['tipo_de_viaje'] = asignar_tipo_de_viaje(df_viajes,df_viajes['comuna'],df_viajes['comuna_destino'])"
   ]
  },
  {
   "cell_type": "code",
   "execution_count": 14,
   "id": "phantom-difference",
   "metadata": {},
   "outputs": [],
   "source": [
    "\n",
    "#calculate bearing\n",
    "#code from https://stackoverflow.com/questions/47659249/calculate-cardinal-direction-from-gps-coordinates-in-python\n",
    "import math\n",
    "\n",
    "def calcBearing (lat1, long1, lat2, long2):\n",
    "    dLon = (long2 - long1)\n",
    "    x = math.cos(math.radians(lat2)) * math.sin(math.radians(dLon))\n",
    "    y = math.cos(math.radians(lat1)) * math.sin(math.radians(lat2)) - math.sin(math.radians(lat1)) * math.cos(math.radians(lat2)) * math.cos(math.radians(dLon))\n",
    "    bearing = math.atan2(x,y)   # use atan2 to determine the quadrant\n",
    "    bearing = math.degrees(bearing)\n",
    "\n",
    "    return bearing\n",
    "\n",
    "def calcNSEW(lat1, long1, lat2, long2):\n",
    "    #points = [\"north\", \"north east\", \"east\", \"south east\", \"south\", \"south west\", \"west\", \"north west\"]\n",
    "    points = [\"N\", \"NE\", \"E\", \"SE\", \"S\", \"SO\", \"O\", \"NO\"]\n",
    "    bearing = calcBearing(lat1, long1, lat2, long2)\n",
    "    bearing += 22.5\n",
    "    bearing = bearing % 360\n",
    "    bearing = int(bearing / 45) # values 0 to 7\n",
    "    NSEW = points [bearing]\n",
    "\n",
    "    return NSEW\n",
    "    \n",
    "def calcGrados(lat1, long1, lat2, long2):\n",
    "    #points = [\"north\", \"north east\", \"east\", \"south east\", \"south\", \"south west\", \"west\", \"north west\"]\n",
    "    points = [\"N\", \"NE\", \"E\", \"SE\", \"S\", \"SO\", \"O\", \"NO\"]\n",
    "    bearing = calcBearing(lat1, long1, lat2, long2)\n",
    "    bearing += 22.5\n",
    "    bearing = bearing % 360\n",
    "    return bearing\n"
   ]
  },
  {
   "cell_type": "code",
   "execution_count": 15,
   "id": "continuous-bride",
   "metadata": {},
   "outputs": [],
   "source": [
    "#calculate bearing \n",
    "\n",
    "#getting cardinal bearing\n",
    "df_viajes['orientacion'] =  df_viajes.apply(lambda x: calcNSEW(x['lat_estacion_origen'], x['long_estacion_origen'], \n",
    "                                                       x['lat_estacion_destino'], x['long_estacion_destino']), axis=1)\n",
    "#getting degrees\n",
    "df_viajes['grados'] = df_viajes.apply(lambda x: calcGrados(x['lat_estacion_origen'], x['long_estacion_origen'], \n",
    "                                                       x['lat_estacion_destino'], x['long_estacion_destino']), axis=1)\n"
   ]
  },
  {
   "cell_type": "code",
   "execution_count": 16,
   "id": "compliant-china",
   "metadata": {},
   "outputs": [],
   "source": [
    "\n",
    "#exporting csv for reporting\n",
    "df_viajes.to_csv('DATA/recorridos_ecobici2019-mayo-viajes.csv')\n",
    "df_estaciones.to_csv('DATA/recorridos_ecobici2019-mayo-estaciones.csv')"
   ]
  },
  {
   "cell_type": "code",
   "execution_count": null,
   "id": "desperate-float",
   "metadata": {},
   "outputs": [],
   "source": []
  }
 ],
 "metadata": {
  "kernelspec": {
   "display_name": "Python [conda env:dhdsblend2021] *",
   "language": "python",
   "name": "conda-env-dhdsblend2021-py"
  },
  "language_info": {
   "codemirror_mode": {
    "name": "ipython",
    "version": 3
   },
   "file_extension": ".py",
   "mimetype": "text/x-python",
   "name": "python",
   "nbconvert_exporter": "python",
   "pygments_lexer": "ipython3",
   "version": "3.8.5"
  }
 },
 "nbformat": 4,
 "nbformat_minor": 5
}
